{
 "cells": [
  {
   "cell_type": "code",
   "execution_count": null,
   "id": "c11f7977",
   "metadata": {},
   "outputs": [],
   "source": [
    "import cv2\n",
    "import numpy as np\n",
    "\n",
    "# Load the noisy image\n",
    "image_path = \"noiseImage.jpg\"\n",
    "noisy_image = cv2.imread(image_path)\n",
    "\n",
    "# Apply Gaussian Blur\n",
    "gaussian_blur = cv2.GaussianBlur(noisy_image, (5, 5), 0)\n",
    "\n",
    "# Apply Median Blur\n",
    "median_blur = cv2.medianBlur(noisy_image, 5)\n",
    "\n",
    "# Apply Non-Local Means Denoising\n",
    "nlm_denoised = cv2.fastNlMeansDenoisingColored(noisy_image, None, 10, 10, 7, 21)\n",
    "\n",
    "# Display the results\n",
    "cv2.imshow(\"Original Noisy Image\", noisy_image)\n",
    "cv2.imshow(\"Gaussian Blur\", gaussian_blur)\n",
    "cv2.imshow(\"Median Blur\", median_blur)\n",
    "cv2.imshow(\"Non-Local Means Denoising\", nlm_denoised)\n",
    "\n",
    "# Wait for a key press and close the windows\n",
    "cv2.waitKey(0)\n",
    "cv2.destroyAllWindows()"
   ]
  },
  {
   "cell_type": "code",
   "execution_count": null,
   "id": "386286ad",
   "metadata": {},
   "outputs": [],
   "source": []
  }
 ],
 "metadata": {
  "kernelspec": {
   "display_name": "venv",
   "language": "python",
   "name": "python3"
  },
  "language_info": {
   "codemirror_mode": {
    "name": "ipython",
    "version": 3
   },
   "file_extension": ".py",
   "mimetype": "text/x-python",
   "name": "python",
   "nbconvert_exporter": "python",
   "pygments_lexer": "ipython3",
   "version": "3.13.2"
  }
 },
 "nbformat": 4,
 "nbformat_minor": 5
}
