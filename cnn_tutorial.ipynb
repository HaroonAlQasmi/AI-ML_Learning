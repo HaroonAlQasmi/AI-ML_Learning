{
 "cells": [
  {
   "cell_type": "markdown",
   "metadata": {},
   "source": [
    "## Task: Build a CNN from Scratch with Keras"
   ]
  },
  {
   "cell_type": "markdown",
   "metadata": {},
   "source": [
    "### Goal:\n",
    "Build a CNN model using tensorflow.keras that can classify 28x28 grayscale images and print the model summary.\n",
    "\n"
   ]
  },
  {
   "cell_type": "markdown",
   "metadata": {},
   "source": [
    "### Instructions:\n",
    "Using Sequential API from tensorflow.keras, build a CNN model with the following architecture:\n",
    "\n",
    "Input Layer: Input shape = (28, 28, 1)\n",
    "\n",
    "Conv2D Layer 1: 32 filters, kernel size 3×3, activation = relu\n",
    "\n",
    "MaxPooling2D Layer 1: pool size = 2×2\n",
    "\n",
    "Conv2D Layer 2: 64 filters, kernel size 3×3, activation = relu\n",
    "\n",
    "MaxPooling2D Layer 2: pool size = 2×2\n",
    "\n",
    "Flatten Layer\n",
    "\n",
    "Dense Layer: 128 units, activation = relu\n",
    "\n",
    "Output Layer: 10 units (one per class), activation = softmax"
   ]
  },
  {
   "cell_type": "markdown",
   "metadata": {},
   "source": [
    "### Starter Code Template:"
   ]
  },
  {
   "cell_type": "code",
   "execution_count": null,
   "metadata": {},
   "outputs": [],
   "source": [
    "from tensorflow.keras.models import Sequential\n",
    "from tensorflow.keras.layers import Conv2D, MaxPooling2D, Flatten, Dense\n",
    "\n",
    "# Step 1: Define the model\n",
    "model = Sequential()\n",
    "\n",
    "# Step 2: Add layers as per the given architecture\n",
    "model.add(Conv2D(32, (3, 3), activation='relu', input_shape=(28, 28, 1)))\n",
    "model.add(MaxPooling2D(pool_size=(2, 2)))\n",
    "model.add(Conv2D(64, (3, 3), activation='relu'))\n",
    "model.add(MaxPooling2D(pool_size=(2, 2)))\n",
    "model.add(Flatten())\n",
    "model.add(Dense(128, activation='relu'))\n",
    "model.add(Dense(10, activation='softmax'))  # Output layer\n",
    "\n",
    "# Step 3: Output the model summary\n",
    "model.summary()\n"
   ]
  }
 ],
 "metadata": {
  "language_info": {
   "name": "python"
  }
 },
 "nbformat": 4,
 "nbformat_minor": 2
}
