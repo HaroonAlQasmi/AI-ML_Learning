{
 "cells": [
  {
   "cell_type": "markdown",
   "metadata": {},
   "source": [
    "### What is TensorFlow?\n",
    "TensorFlow is an open-source machine learning framework developed by Google. It’s designed to build and train ML models, especially deep learning models, efficiently across CPUs, GPUs, or TPUs.\n",
    "\n"
   ]
  },
  {
   "cell_type": "markdown",
   "metadata": {},
   "source": [
    "### Core Concepts of TensorFlow\n",
    "1. Tensors\n",
    "Theory: A tensor is a multi-dimensional array (just like NumPy arrays).\n",
    "\n",
    "Used to represent data (input features, labels, weights)."
   ]
  },
  {
   "cell_type": "code",
   "execution_count": null,
   "metadata": {},
   "outputs": [],
   "source": [
    "import tensorflow as tf\n",
    "\n",
    "# Create a tensor (1D)\n",
    "tensor1 = tf.constant([1, 2, 3])\n",
    "\n",
    "# 2D tensor\n",
    "tensor2 = tf.constant([[1.0, 2.0], [3.0, 4.0]])\n",
    "\n",
    "print(tensor2.shape)  # Output: (2, 2)\n"
   ]
  },
  {
   "cell_type": "markdown",
   "metadata": {},
   "source": [
    "2. Computational Graph\n",
    "Theory: TensorFlow builds a graph of operations to optimize computations. Keras is TensorFlow's high-level API it is used to quickly build neural networks.\n",
    "\n",
    "Nodes = operations, Edges = data (tensors) passed between operations."
   ]
  },
  {
   "cell_type": "code",
   "execution_count": null,
   "metadata": {},
   "outputs": [],
   "source": [
    "# simple dense neural networks\n",
    "from tensorflow.keras import Sequential\n",
    "from tensorflow.keras.layers import Dense\n",
    "# A Dense layer is a fully connected layer, meaning each neuron receives input from every neuron in the previous layer.\n",
    "\"\"\"\n",
    "Dense(16, activation='relu', input_shape=(10,))\n",
    "16 neurons (units)\n",
    "\n",
    "relu activation: ReLU (Rectified Linear Unit) helps the model learn nonlinear patterns by zeroing out negative values.\n",
    "\n",
    "input_shape=(10,): The model expects 10 input features (e.g., from a row in a dataset).\n",
    "\n",
    "Dense(1, activation='sigmoid')\n",
    "1 output neuron\n",
    "\n",
    "sigmoid activation squashes the output between 0 and 1 → used for binary classification (e.g., yes/no, spam/not spam\"\"\"\n",
    "\n",
    "model = Sequential([\n",
    "    \n",
    "    Dense(16, activation='relu', input_shape=(10,)),\n",
    "    Dense(1, activation='sigmoid')  # For binary classification\n",
    "])\n"
   ]
  },
  {
   "cell_type": "markdown",
   "metadata": {},
   "source": [
    "4. Model Compilation\n",
    "- You must define:\n",
    "\n",
    "Optimizer – e.g., adam\n",
    "\n",
    "Loss function – e.g., binary_crossentropy\n",
    "\n",
    "Metrics – e.g., accuracy"
   ]
  },
  {
   "cell_type": "code",
   "execution_count": null,
   "metadata": {},
   "outputs": [],
   "source": [
    "model.compile(optimizer='adam', loss='binary_crossentropy', metrics=['accuracy'])\n"
   ]
  },
  {
   "cell_type": "markdown",
   "metadata": {},
   "source": [
    "5. Training the Model\n",
    "- Use .fit() to train on data.\n",
    "\n",
    "- Epoch: one pass over the entire training dataset.\n",
    "\n"
   ]
  },
  {
   "cell_type": "code",
   "execution_count": null,
   "metadata": {},
   "outputs": [],
   "source": [
    "import numpy as np\n",
    "\n",
    "# Dummy data: 100 samples, 10 features each\n",
    "X_train = np.random.rand(100, 10)\n",
    "y_train = np.random.randint(0, 2, size=(100, 1))\n",
    "\n",
    "model.fit(X_train, y_train, epochs=5, batch_size=8)\n"
   ]
  },
  {
   "cell_type": "markdown",
   "metadata": {},
   "source": [
    "6. Evaluation and Prediction\n"
   ]
  },
  {
   "cell_type": "code",
   "execution_count": null,
   "metadata": {},
   "outputs": [],
   "source": [
    "loss, accuracy = model.evaluate(X_train, y_train)\n",
    "print(\"Accuracy:\", accuracy)\n",
    "\n",
    "predictions = model.predict(X_train[:5])\n"
   ]
  },
  {
   "cell_type": "markdown",
   "metadata": {},
   "source": [
    "### In simple terms:\n",
    "- This builds a small neural network that:\n",
    "\n",
    "- Takes a 10-feature input\n",
    "\n",
    "- Processes it through a hidden layer of 16 neurons with ReLU\n",
    "\n",
    "- Outputs a single value between 0 and 1 (probability), using sigmoid"
   ]
  },
  {
   "cell_type": "markdown",
   "metadata": {},
   "source": []
  }
 ],
 "metadata": {
  "kernelspec": {
   "display_name": "venv",
   "language": "python",
   "name": "python3"
  },
  "language_info": {
   "codemirror_mode": {
    "name": "ipython",
    "version": 3
   },
   "file_extension": ".py",
   "mimetype": "text/x-python",
   "name": "python",
   "nbconvert_exporter": "python",
   "pygments_lexer": "ipython3",
   "version": "3.13.2"
  }
 },
 "nbformat": 4,
 "nbformat_minor": 2
}
